{
 "cells": [
  {
   "cell_type": "markdown",
   "metadata": {
    "colab_type": "text",
    "id": "view-in-github"
   },
   "source": [
    "<a href=\"https://colab.research.google.com/github/atifadib/graph_theory/blob/master/Graph_Theory_1.ipynb\" target=\"_parent\"><img src=\"https://colab.research.google.com/assets/colab-badge.svg\" alt=\"Open In Colab\"/></a>"
   ]
  },
  {
   "cell_type": "markdown",
   "metadata": {
    "colab_type": "text",
    "id": "vrQ97nlwqwV0"
   },
   "source": [
    "### Graph Theory\n",
    "\n",
    "<p>Storing and Accessing Data stored in a graph using various algorithms\n",
    "<br>\n",
    "Graphs(also refered to as networks) are ubiquitous and\n",
    "are found everywhere from Data Storage to Machine learning.</p>"
   ]
  },
  {
   "cell_type": "markdown",
   "metadata": {
    "colab_type": "text",
    "id": "mpxVgkhvrPjC"
   },
   "source": [
    "Types of Graphs:\n",
    "1. **Undirected Graph**: \n",
    "Edges have no orientation\n",
    "\n",
    "2. **Directed Graph**:\n",
    "Edges have orientation, edge from A->B is not the same as edge B->A\n",
    "\n",
    "3. **Weighted Graph**:\n",
    "Edges have weight, weighted graph can be both directed and un-directed.\n",
    "Edge is represented as a triplet,\n",
    "(A,B,W)\n",
    "\n",
    "Some special graphs:\n",
    "\n",
    "**Trees**: An undirected graph with no cycles, or graphs with N nodes and N-1 Edges if its a binary tree.\n",
    "\n",
    "**Rooted-Tree** : Trees with designated root node, variations are out-tree(arborescence) and in-trees.\n",
    "\n",
    "**DAGs** : Directed graph with no cycles, used to represent compilers, schedulers, etc.\n",
    "\n",
    "**Bipartite Graph** : Vertices can be split into two different groups U,V and there are no edges between nodes in the same group. Bipartite are two color graphs.\n",
    "\n",
    "**Complete Graph**: If all the nodes are connected to the other nodes, then its a complete graph.\n",
    "K-1,K-2,K-3, .., K-n denotes complete graph with 1,2 and 3 nodes and has 0,1,2, ...,N(N-1)/2 edges.\n",
    "\n",
    "Complete graph are often considered to be worst case graphs for testing algorithms for space and time complexity.\n",
    "\n",
    "\n"
   ]
  },
  {
   "cell_type": "markdown",
   "metadata": {
    "colab_type": "text",
    "id": "O1ZOFlqHvL18"
   },
   "source": [
    "Representing Graphs:\n",
    "\n",
    "1. **Adjacency Matrix**: NxN Matrix containing either the weight of the edge in a weighted graph or just 0/1 in case of unweighted graph to represent whether the edge exists or not.\n",
    "**Pros**: Space efficient for dense graphs, edge weight look-up time is O(1)\n",
    "\n",
    "**Cons**: Requires a lot of space for graphs which are not dense, iterating over all the edges is difficult.\n",
    "\n",
    "2. **Adjacency List**:\n",
    "Adjacency list contains a list of nodes reachable from a give node.\n",
    "\n",
    "**Pros**: \n",
    "\n",
    "3. **Edge List**:\n",
    "Simplest representation of graph data, it contains only a list of edges in the form of triplets like (A,B,W) A,B are nodes and W is the edge weight."
   ]
  },
  {
   "cell_type": "code",
   "execution_count": 22,
   "metadata": {
    "colab": {},
    "colab_type": "code",
    "id": "pguU5GpZYMuL"
   },
   "outputs": [],
   "source": [
    "import numpy as np\n",
    "\n",
    "class Graph:\n",
    "    def __init__(self, edge_list, weighted):\n",
    "        self.adjacency_matrix = self.create_matrix(edge_list, weighted)\n",
    "        self.adjacency_list = self.create_list(edge_list, weighted)\n",
    "        self.edge_list = edge_list\n",
    "    \n",
    "    def create_matrix(self, edge_list, weighted):\n",
    "        all_nodes = set.union(set([_[0] for _ in edge_list]),\\\n",
    "                             set([_[1] for _ in edge_list]))\n",
    "        num_nodes = len(all_nodes)\n",
    "        node2index = {node: i for i, node in enumerate(all_nodes)}\n",
    "        \n",
    "        matrix = np.matrix(np.zeros((num_nodes, num_nodes)))\n",
    "        \n",
    "        for edge in edge_list:\n",
    "            if weighted:\n",
    "                a, b, weight = edge\n",
    "            else:\n",
    "                a, b = edge\n",
    "                weight = 1\n",
    "            i, j = node2index[a], node2index[b]\n",
    "            matrix[i, j] = weight\n",
    "            \n",
    "        return matrix\n",
    "    \n",
    "    def create_list(self, edge_list, weighted):\n",
    "        all_nodes = set.union(set([_[0] for _ in edge_list]),\\\n",
    "                             set([_[1] for _ in edge_list]))\n",
    "        num_nodes = len(all_nodes)\n",
    "        \n",
    "        adj_list = {node: [] for node in all_nodes}\n",
    "        \n",
    "        for edge in edge_list:\n",
    "            if weighted:\n",
    "                a, b, weight = edge\n",
    "            else:\n",
    "                a, b = edge\n",
    "                weight = 1\n",
    "            adj_list[a].append((b, weight))\n",
    "            \n",
    "        return adj_list"
   ]
  },
  {
   "cell_type": "code",
   "execution_count": 23,
   "metadata": {},
   "outputs": [],
   "source": [
    "my_edge_list = [('a', 'b', 1.0), ('b', 'c', 2.9),\\\n",
    "               ('a', 'c', 3.0), ('b','d',1.2), ('d','a',1.2)]"
   ]
  },
  {
   "cell_type": "code",
   "execution_count": 24,
   "metadata": {},
   "outputs": [],
   "source": [
    "graph = Graph(my_edge_list, True)"
   ]
  },
  {
   "cell_type": "code",
   "execution_count": 25,
   "metadata": {},
   "outputs": [
    {
     "data": {
      "text/plain": [
       "matrix([[0. , 0. , 1.2, 2.9],\n",
       "        [1. , 0. , 0. , 3. ],\n",
       "        [0. , 1.2, 0. , 0. ],\n",
       "        [0. , 0. , 0. , 0. ]])"
      ]
     },
     "execution_count": 25,
     "metadata": {},
     "output_type": "execute_result"
    }
   ],
   "source": [
    "graph.adjacency_matrix"
   ]
  },
  {
   "cell_type": "code",
   "execution_count": 26,
   "metadata": {},
   "outputs": [
    {
     "data": {
      "text/plain": [
       "{'b': [('c', 2.9), ('d', 1.2)],\n",
       " 'a': [('b', 1.0), ('c', 3.0)],\n",
       " 'd': [('a', 1.2)],\n",
       " 'c': []}"
      ]
     },
     "execution_count": 26,
     "metadata": {},
     "output_type": "execute_result"
    }
   ],
   "source": [
    "graph.adjacency_list"
   ]
  },
  {
   "cell_type": "code",
   "execution_count": 27,
   "metadata": {},
   "outputs": [
    {
     "data": {
      "text/plain": [
       "[('a', 'b', 1.0),\n",
       " ('b', 'c', 2.9),\n",
       " ('a', 'c', 3.0),\n",
       " ('b', 'd', 1.2),\n",
       " ('d', 'a', 1.2)]"
      ]
     },
     "execution_count": 27,
     "metadata": {},
     "output_type": "execute_result"
    }
   ],
   "source": [
    "graph.edge_list"
   ]
  },
  {
   "cell_type": "markdown",
   "metadata": {},
   "source": [
    "#### This concludes the first session on graph theory\n",
    "\n",
    "- [x] Common types of Graphs\n",
    "- [x] How to represent graph \n",
    "- [x] Class to make a graph in Python\n",
    "\n",
    "#### Next: Common Problems in Graph Theory"
   ]
  },
  {
   "cell_type": "code",
   "execution_count": null,
   "metadata": {},
   "outputs": [],
   "source": []
  }
 ],
 "metadata": {
  "colab": {
   "authorship_tag": "ABX9TyONtLnMxBH5VTAVGobnumZK",
   "include_colab_link": true,
   "name": "Graph-Theory-1.ipynb",
   "provenance": []
  },
  "kernelspec": {
   "display_name": "Python 3",
   "language": "python",
   "name": "python3"
  },
  "language_info": {
   "codemirror_mode": {
    "name": "ipython",
    "version": 3
   },
   "file_extension": ".py",
   "mimetype": "text/x-python",
   "name": "python",
   "nbconvert_exporter": "python",
   "pygments_lexer": "ipython3",
   "version": "3.6.9"
  }
 },
 "nbformat": 4,
 "nbformat_minor": 4
}
