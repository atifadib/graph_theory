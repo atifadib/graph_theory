{
  "nbformat": 4,
  "nbformat_minor": 0,
  "metadata": {
    "colab": {
      "name": "Graph-Theory-1.ipynb",
      "provenance": [],
      "authorship_tag": "ABX9TyONtLnMxBH5VTAVGobnumZK",
      "include_colab_link": true
    },
    "kernelspec": {
      "name": "python3",
      "display_name": "Python 3"
    }
  },
  "cells": [
    {
      "cell_type": "markdown",
      "metadata": {
        "id": "view-in-github",
        "colab_type": "text"
      },
      "source": [
        "<a href=\"https://colab.research.google.com/github/atifadib/graph_theory/blob/master/Graph_Theory_1.ipynb\" target=\"_parent\"><img src=\"https://colab.research.google.com/assets/colab-badge.svg\" alt=\"Open In Colab\"/></a>"
      ]
    },
    {
      "cell_type": "code",
      "metadata": {
        "id": "aJZyaD_wqZ2v",
        "colab_type": "code",
        "colab": {}
      },
      "source": [
        "import numpy as np"
      ],
      "execution_count": 1,
      "outputs": []
    },
    {
      "cell_type": "markdown",
      "metadata": {
        "id": "vrQ97nlwqwV0",
        "colab_type": "text"
      },
      "source": [
        "Storing and Accessing Data stored in a graph using various algorithms\n",
        "\n",
        "Graphs(also refered to as networks) are ubiquitous and are found everywhere from Data Storage to Machine learning."
      ]
    },
    {
      "cell_type": "code",
      "metadata": {
        "id": "raahc826qu3M",
        "colab_type": "code",
        "colab": {}
      },
      "source": [
        ""
      ],
      "execution_count": null,
      "outputs": []
    },
    {
      "cell_type": "markdown",
      "metadata": {
        "id": "mpxVgkhvrPjC",
        "colab_type": "text"
      },
      "source": [
        "Types of Graphs:\n",
        "1. **Undirected Graph**: \n",
        "Edges have no orientation\n",
        "\n",
        "2. **Directed Graph**:\n",
        "Edges have orientation, edge from A->B is not the same as edge B->A\n",
        "\n",
        "3. **Weighted Graph**:\n",
        "Edges have weight, weighted graph can be both directed and un-directed.\n",
        "Edge is represented as a triplet,\n",
        "(A,B,W)\n",
        "\n",
        "Some special graphs:\n",
        "\n",
        "**Trees**: An undirected graph with no cycles, or graphs with N nodes and N-1 Edges if its a binary tree.\n",
        "\n",
        "**Rooted-Tree** : Trees with designated root node, variations are out-tree(arborescence) and in-trees.\n",
        "\n",
        "**DAGs** : Directed graph with no cycles, used to represent compilers, schedulers, etc.\n",
        "\n",
        "**Bipartite Graph** : Vertices can be split into two different groups U,V and there are no edges between nodes in the same group. Bipartite are two color graphs.\n",
        "\n",
        "**Complete Graph**: If all the nodes are connected to the other nodes, then its a complete graph.\n",
        "K-1,K-2,K-3, .., K-n denotes complete graph with 1,2 and 3 nodes and has 0,1,2, ...,N(N-1)/2 edges.\n",
        "\n",
        "Complete graph are often considered to be worst case graphs for testing algorithms for space and time complexity.\n",
        "\n",
        "\n"
      ]
    },
    {
      "cell_type": "markdown",
      "metadata": {
        "id": "O1ZOFlqHvL18",
        "colab_type": "text"
      },
      "source": [
        "Representing Graphs:\n",
        "\n",
        "1. **Adjacency Matrix**: NxN Matrix containing either the weight of the edge in a weighted graph or just 0/1 in case of unweighted graph to represent whether the edge exists or not.\n",
        "**Pros**: Space efficient for dense graphs, edge weight look-up time is O(1)\n",
        "\n",
        "**Cons**: Requires a lot of space for graphs which are not dense, iterating over all the edges is difficult.\n",
        "\n",
        "2. **Adjacency List**:\n",
        "Adjacency list contains a list of nodes reachable from a give node.\n",
        "\n",
        "**Pros**: \n",
        "\n",
        "3. **Edge List**:\n",
        "Simplest representation of graph data, it contains only a list of edges in the form of triplets like (A,B,W) A,B are nodes and W is the edge weight."
      ]
    },
    {
      "cell_type": "code",
      "metadata": {
        "id": "pguU5GpZYMuL",
        "colab_type": "code",
        "colab": {}
      },
      "source": [
        "class Graph:\n",
        "  def __init__(self, edge_list=[], type='adjacency_matrix'):\n",
        "    if type == 'adjacency_matrix':\n",
        "      if edge_list is []:\n",
        "        self.G = create_adjacency_matrix(random=True)\n",
        "      else:\n",
        "        self.G = create_adjacency_matrix(edge_list)\n",
        "\n",
        "\n"
      ],
      "execution_count": null,
      "outputs": []
    }
  ]
}